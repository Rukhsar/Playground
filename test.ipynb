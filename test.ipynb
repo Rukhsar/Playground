{
  "nbformat": 4,
  "nbformat_minor": 0,
  "metadata": {
    "colab": {
      "provenance": [],
      "authorship_tag": "ABX9TyNDW80ldDKJqawWhtUSVYO9"
    },
    "kernelspec": {
      "name": "python3",
      "display_name": "Python 3"
    },
    "language_info": {
      "name": "python"
    }
  },
  "cells": [
    {
      "cell_type": "code",
      "execution_count": null,
      "metadata": {
        "colab": {
          "base_uri": "https://localhost:8080/"
        },
        "id": "IGbh56x1yQbA",
        "outputId": "a9e68544-8a0d-4d88-dfbc-ce06c665e7cd"
      },
      "outputs": [
        {
          "output_type": "stream",
          "name": "stdout",
          "text": [
            "Uryyb, jbeyq!\n"
          ]
        }
      ],
      "source": [
        "# prompt: print hello world using rot13\n",
        "\n",
        "import codecs\n",
        "\n",
        "def rot13(text):\n",
        "  return codecs.encode(text, 'rot_13')\n",
        "\n",
        "hello_world_rot13 = rot13(\"Hello, world!\")\n",
        "print(hello_world_rot13)\n"
      ]
    }
  ]
}